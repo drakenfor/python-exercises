{
 "cells": [
  {
   "cell_type": "markdown",
   "metadata": {},
   "source": [
    "### Ejercicio 27\n",
    "Dado un número entero positivo de 10 cifras. Programa que compruebe si un\n",
    "número es capicúa utilizando un vector de 10 componentes."
   ]
  },
  {
   "cell_type": "code",
   "execution_count": 11,
   "metadata": {},
   "outputs": [
    {
     "name": "stdout",
     "output_type": "stream",
     "text": [
      "Es capicua\n"
     ]
    }
   ],
   "source": [
    "n = 111111111\n",
    "\n",
    "# Construyendo el vector de numeros\n",
    "number = []\n",
    "while n > 0:\n",
    "    number.append(n % 10)\n",
    "    n = n // 10\n",
    "\n",
    "number.reverse()\n",
    "\n",
    "capicua = True\n",
    "for i in range(len(number)):\n",
    "    if number[i] != number[len(number) - i - 1]:\n",
    "        capicua = False\n",
    "        print(\"No es capicua\")\n",
    "        break\n",
    "\n",
    "if capicua:\n",
    "    print(\"Es capicua\")\n"
   ]
  },
  {
   "cell_type": "markdown",
   "metadata": {},
   "source": [
    "---\n",
    "### Ejercicio 28\n",
    "Programa que carga una matriz de 5 filas y 10 columnas con números enteros\n",
    "imprimiendo los valores máximo y mínimo y sus posiciones dentro de la tabla."
   ]
  },
  {
   "cell_type": "code",
   "execution_count": 19,
   "metadata": {},
   "outputs": [
    {
     "name": "stdout",
     "output_type": "stream",
     "text": [
      "82 14 93 1 71 91 3 95 15 70 \n",
      "97 32 80 64 23 34 27 4 81 50 \n",
      "71 84 43 98 19 22 21 89 84 99 \n",
      "13 83 79 25 56 76 42 21 89 60 \n",
      "88 47 79 5 93 34 35 22 79 31 \n",
      "\n",
      "El máximo valor es: 99\n",
      "El mínimo valor es: 1\n"
     ]
    }
   ],
   "source": [
    "# importando random para generar números aleatorios\n",
    "import random\n",
    "\n",
    "# Creando la matriz\n",
    "matriz = []\n",
    "for i in range(5):\n",
    "    fila = []\n",
    "    for j in range(10):\n",
    "        fila.append(random.randint(0, 100))\n",
    "    matriz.append(fila)\n",
    "\n",
    "# Imprimiendo la matriz crada\n",
    "for fila in matriz:\n",
    "    for numero in fila:\n",
    "        print(numero, end=\" \")\n",
    "\n",
    "    print(\"\")\n",
    "\n",
    "\n",
    "# Encontrando el máximo valor\n",
    "max = matriz[0][0]\n",
    "\n",
    "for fila in matriz:\n",
    "    for numero in fila:\n",
    "        if numero > max:\n",
    "            max = numero\n",
    "\n",
    "print(\"\\nEl máximo valor es:\", max)\n",
    "\n",
    "# Encontrando el mínimo valor\n",
    "\n",
    "min = matriz[0][0]\n",
    "\n",
    "for fila in matriz:\n",
    "    for numero in fila:\n",
    "        if numero < min:\n",
    "            min = numero\n",
    "\n",
    "print(\"El mínimo valor es:\", min)\n",
    "\n"
   ]
  },
  {
   "cell_type": "markdown",
   "metadata": {},
   "source": [
    "---\n",
    "### Ejercicio 30\n",
    "Programa que genera e imprime una matriz unitaria de orden N. Una matriz unitaria\n",
    "de orden N es la que tiene N filas y N columnas con todas sus componentes a 0, excepto\n",
    "las de su diagonal principal que están a 1."
   ]
  },
  {
   "cell_type": "code",
   "execution_count": 25,
   "metadata": {},
   "outputs": [
    {
     "name": "stdout",
     "output_type": "stream",
     "text": [
      "1  0  0  0  0  \n",
      "0  1  0  0  0  \n",
      "0  0  1  0  0  \n",
      "0  0  0  1  0  \n",
      "0  0  0  0  1  \n"
     ]
    }
   ],
   "source": [
    "n = int(input(\"Ingrese el orden de la matriz: \"))\n",
    "\n",
    "# Creando la Matriz\n",
    "matriz = []\n",
    "for i in range(n):\n",
    "    fila = []\n",
    "    for j in range(n):\n",
    "        if i == j:\n",
    "            fila.append(1)\n",
    "        else:\n",
    "            fila.append(0)\n",
    "    matriz.append(fila)\n",
    "\n",
    "# Imprimiendo la matriz\n",
    "for fila in matriz:\n",
    "    for numero in fila:\n",
    "        print(numero, end=\"  \")\n",
    "\n",
    "    print(\"\")"
   ]
  },
  {
   "cell_type": "markdown",
   "metadata": {},
   "source": [
    "---\n",
    "### Ejercicio 36\n",
    "Llenar una tabla de 10 posiciones con números enteros comprendidos entre el 1 y el\n",
    "99. Ordenar dicha tabla de menor a mayor y visualizarla por pantalla de la forma\n",
    "siguiente:"
   ]
  },
  {
   "cell_type": "code",
   "execution_count": 34,
   "metadata": {},
   "outputs": [
    {
     "name": "stdout",
     "output_type": "stream",
     "text": [
      "sin orden:  [17, 28, 10, 85, 47, 83, 86, 43, 43, 31]\n",
      "ordenada:   [10, 17, 28, 31, 43, 43, 47, 83, 85, 86]\n"
     ]
    }
   ],
   "source": [
    "# importando random para generar números aleatorios\n",
    "import random\n",
    "\n",
    "# Crando la tabla\n",
    "tabla = []\n",
    "for i in range(10):\n",
    "    tabla.append(random.randint(0, 99))\n",
    "\n",
    "# Imprimiendo la tabla crada\n",
    "print(\"sin orden: \", tabla)\n",
    "\n",
    "# Ordenando la tabla\n",
    "min = tabla[0]\n",
    "\n",
    "for i in range(len(tabla)):\n",
    "    for j in range(i + 1, len(tabla)):\n",
    "        if tabla[i] > tabla[j]:\n",
    "            min = tabla[i]\n",
    "            tabla[i] = tabla[j]\n",
    "            tabla[j] = min\n",
    "\n",
    "print(\"ordenada:  \", tabla)\n"
   ]
  }
 ],
 "metadata": {
  "interpreter": {
   "hash": "d2152fd7f0bbc62aa1baff8c990435d1e2c7175d001561303988032604c11a48"
  },
  "kernelspec": {
   "display_name": "Python 3.10.4 64-bit",
   "language": "python",
   "name": "python3"
  },
  "language_info": {
   "codemirror_mode": {
    "name": "ipython",
    "version": 3
   },
   "file_extension": ".py",
   "mimetype": "text/x-python",
   "name": "python",
   "nbconvert_exporter": "python",
   "pygments_lexer": "ipython3",
   "version": "3.10.4"
  },
  "orig_nbformat": 4
 },
 "nbformat": 4,
 "nbformat_minor": 2
}
