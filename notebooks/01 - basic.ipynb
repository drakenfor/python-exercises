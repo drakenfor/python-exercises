{
 "cells": [
  {
   "cell_type": "markdown",
   "metadata": {},
   "source": [
    "### Ejercicio\n",
    "27. Dado un número entero positivo de 10 cifras. Programa que compruebe si un\n",
    "número es capicúa utilizando un vector de 10 componentes."
   ]
  },
  {
   "cell_type": "code",
   "execution_count": 11,
   "metadata": {},
   "outputs": [
    {
     "name": "stdout",
     "output_type": "stream",
     "text": [
      "Es capicua\n"
     ]
    }
   ],
   "source": [
    "n = 111111111\n",
    "\n",
    "# Construyendo el vector de numeros\n",
    "number = []\n",
    "while n > 0:\n",
    "    number.append(n % 10)\n",
    "    n = n // 10\n",
    "\n",
    "number.reverse()\n",
    "\n",
    "capicua = True\n",
    "for i in range(len(number)):\n",
    "    if number[i] != number[len(number) - i - 1]:\n",
    "        capicua = False\n",
    "        print(\"No es capicua\")\n",
    "        break\n",
    "\n",
    "if capicua:\n",
    "    print(\"Es capicua\")\n"
   ]
  }
 ],
 "metadata": {
  "interpreter": {
   "hash": "d2152fd7f0bbc62aa1baff8c990435d1e2c7175d001561303988032604c11a48"
  },
  "kernelspec": {
   "display_name": "Python 3.10.4 64-bit",
   "language": "python",
   "name": "python3"
  },
  "language_info": {
   "codemirror_mode": {
    "name": "ipython",
    "version": 3
   },
   "file_extension": ".py",
   "mimetype": "text/x-python",
   "name": "python",
   "nbconvert_exporter": "python",
   "pygments_lexer": "ipython3",
   "version": "3.10.4"
  },
  "orig_nbformat": 4
 },
 "nbformat": 4,
 "nbformat_minor": 2
}
