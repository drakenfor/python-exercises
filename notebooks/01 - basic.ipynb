{
 "cells": [
  {
   "cell_type": "markdown",
   "metadata": {},
   "source": [
    "### Ejercicio 27\n",
    "Dado un número entero positivo de 10 cifras. Programa que compruebe si un\n",
    "número es capicúa utilizando un vector de 10 componentes."
   ]
  },
  {
   "cell_type": "code",
   "execution_count": 11,
   "metadata": {},
   "outputs": [
    {
     "name": "stdout",
     "output_type": "stream",
     "text": [
      "Es capicua\n"
     ]
    }
   ],
   "source": [
    "n = 111111111\n",
    "\n",
    "# Construyendo el vector de numeros\n",
    "number = []\n",
    "while n > 0:\n",
    "    number.append(n % 10)\n",
    "    n = n // 10\n",
    "\n",
    "number.reverse()\n",
    "\n",
    "capicua = True\n",
    "for i in range(len(number)):\n",
    "    if number[i] != number[len(number) - i - 1]:\n",
    "        capicua = False\n",
    "        print(\"No es capicua\")\n",
    "        break\n",
    "\n",
    "if capicua:\n",
    "    print(\"Es capicua\")\n"
   ]
  },
  {
   "cell_type": "markdown",
   "metadata": {},
   "source": [
    "---\n",
    "### Ejercicio 28\n",
    "Programa que carga una matriz de 5 filas y 10 columnas con números enteros\n",
    "imprimiendo los valores máximo y mínimo y sus posiciones dentro de la tabla."
   ]
  },
  {
   "cell_type": "code",
   "execution_count": 19,
   "metadata": {},
   "outputs": [
    {
     "name": "stdout",
     "output_type": "stream",
     "text": [
      "82 14 93 1 71 91 3 95 15 70 \n",
      "97 32 80 64 23 34 27 4 81 50 \n",
      "71 84 43 98 19 22 21 89 84 99 \n",
      "13 83 79 25 56 76 42 21 89 60 \n",
      "88 47 79 5 93 34 35 22 79 31 \n",
      "\n",
      "El máximo valor es: 99\n",
      "El mínimo valor es: 1\n"
     ]
    }
   ],
   "source": [
    "# importando random para generar números aleatorios\n",
    "import random\n",
    "\n",
    "# Creando la matriz\n",
    "matriz = []\n",
    "for i in range(5):\n",
    "    fila = []\n",
    "    for j in range(10):\n",
    "        fila.append(random.randint(0, 100))\n",
    "    matriz.append(fila)\n",
    "\n",
    "# Imprimiendo la matriz crada\n",
    "for fila in matriz:\n",
    "    for numero in fila:\n",
    "        print(numero, end=\" \")\n",
    "\n",
    "    print(\"\")\n",
    "\n",
    "\n",
    "# Encontrando el máximo valor\n",
    "max = matriz[0][0]\n",
    "\n",
    "for fila in matriz:\n",
    "    for numero in fila:\n",
    "        if numero > max:\n",
    "            max = numero\n",
    "\n",
    "print(\"\\nEl máximo valor es:\", max)\n",
    "\n",
    "# Encontrando el mínimo valor\n",
    "\n",
    "min = matriz[0][0]\n",
    "\n",
    "for fila in matriz:\n",
    "    for numero in fila:\n",
    "        if numero < min:\n",
    "            min = numero\n",
    "\n",
    "print(\"El mínimo valor es:\", min)\n",
    "\n"
   ]
  },
  {
   "cell_type": "markdown",
   "metadata": {},
   "source": [
    "---\n",
    "### Ejercicio 30\n",
    "Programa que genera e imprime una matriz unitaria de orden N. Una matriz unitaria\n",
    "de orden N es la que tiene N filas y N columnas con todas sus componentes a 0, excepto\n",
    "las de su diagonal principal que están a 1."
   ]
  },
  {
   "cell_type": "code",
   "execution_count": 25,
   "metadata": {},
   "outputs": [
    {
     "name": "stdout",
     "output_type": "stream",
     "text": [
      "1  0  0  0  0  \n",
      "0  1  0  0  0  \n",
      "0  0  1  0  0  \n",
      "0  0  0  1  0  \n",
      "0  0  0  0  1  \n"
     ]
    }
   ],
   "source": [
    "n = int(input(\"Ingrese el orden de la matriz: \"))\n",
    "\n",
    "# Creando la Matriz\n",
    "matriz = []\n",
    "for i in range(n):\n",
    "    fila = []\n",
    "    for j in range(n):\n",
    "        if i == j:\n",
    "            fila.append(1)\n",
    "        else:\n",
    "            fila.append(0)\n",
    "    matriz.append(fila)\n",
    "\n",
    "# Imprimiendo la matriz\n",
    "for fila in matriz:\n",
    "    for numero in fila:\n",
    "        print(numero, end=\"  \")\n",
    "\n",
    "    print(\"\")"
   ]
  },
  {
   "cell_type": "markdown",
   "metadata": {},
   "source": [
    "---\n",
    "### Ejercicio 36\n",
    "Llenar una tabla de 10 posiciones con números enteros comprendidos entre el 1 y el\n",
    "99. Ordenar dicha tabla de menor a mayor y visualizarla por pantalla de la forma\n",
    "siguiente:"
   ]
  },
  {
   "cell_type": "code",
   "execution_count": 35,
   "metadata": {},
   "outputs": [
    {
     "name": "stdout",
     "output_type": "stream",
     "text": [
      "sin orden:  [5, 97, 93, 43, 45, 76, 90, 38, 9, 63]\n",
      "ordenada:   [5, 9, 38, 43, 45, 63, 76, 90, 93, 97]\n"
     ]
    }
   ],
   "source": [
    "# importando random para generar números aleatorios\n",
    "import random\n",
    "\n",
    "# Crando la tabla\n",
    "tabla = []\n",
    "for i in range(10):\n",
    "    tabla.append(random.randint(1, 99))\n",
    "\n",
    "# Imprimiendo la tabla crada\n",
    "print(\"sin orden: \", tabla)\n",
    "\n",
    "# Ordenando la tabla\n",
    "min = tabla[0]\n",
    "\n",
    "for i in range(len(tabla)):\n",
    "    for j in range(i + 1, len(tabla)):\n",
    "        if tabla[i] > tabla[j]:\n",
    "            min = tabla[i]\n",
    "            tabla[i] = tabla[j]\n",
    "            tabla[j] = min\n",
    "\n",
    "print(\"ordenada:  \", tabla)\n"
   ]
  },
  {
   "cell_type": "markdown",
   "metadata": {},
   "source": [
    "---\n",
    "### Ejercicio 37\n",
    "37.- Llenar dos tablas de 10 posiciones cada una con números enteros comprendidos entre\n",
    "el 1 y el 99. Ordenar dichas tablas y fusionarlas en una tercera de 20 posiciones, de forma\n",
    "que vaya quedando ordenada de menor a mayor. Ir visualizando el proceso."
   ]
  },
  {
   "cell_type": "code",
   "execution_count": 2,
   "metadata": {},
   "outputs": [
    {
     "name": "stdout",
     "output_type": "stream",
     "text": [
      "Tabla 1:  [14, 22, 78, 31, 16, 41, 75, 62, 72, 67]\n",
      "Tabla 2:  [97, 1, 33, 7, 19, 40, 52, 46, 67, 64]\n",
      "\n",
      "Ordenadas \n",
      "tabla_1:  [14, 16, 22, 31, 41, 62, 67, 72, 75, 78]\n",
      "tabla_2:  [1, 7, 19, 33, 40, 46, 52, 64, 67, 97]\n",
      "\n",
      "Funcionando las tablas\n",
      "Tabla:  [1]\n",
      "Tabla:  [1, 7]\n",
      "Tabla:  [1, 7, 14]\n",
      "Tabla:  [1, 7, 14, 16]\n",
      "Tabla:  [1, 7, 14, 16, 19]\n",
      "Tabla:  [1, 7, 14, 16, 19, 22]\n",
      "Tabla:  [1, 7, 14, 16, 19, 22, 31]\n",
      "Tabla:  [1, 7, 14, 16, 19, 22, 31, 33]\n",
      "Tabla:  [1, 7, 14, 16, 19, 22, 31, 33, 40]\n",
      "Tabla:  [1, 7, 14, 16, 19, 22, 31, 33, 40, 41]\n",
      "Tabla:  [1, 7, 14, 16, 19, 22, 31, 33, 40, 41, 46]\n",
      "Tabla:  [1, 7, 14, 16, 19, 22, 31, 33, 40, 41, 46, 52]\n",
      "Tabla:  [1, 7, 14, 16, 19, 22, 31, 33, 40, 41, 46, 52, 62]\n",
      "Tabla:  [1, 7, 14, 16, 19, 22, 31, 33, 40, 41, 46, 52, 62, 64]\n",
      "Tabla:  [1, 7, 14, 16, 19, 22, 31, 33, 40, 41, 46, 52, 62, 64, 67]\n",
      "Tabla:  [1, 7, 14, 16, 19, 22, 31, 33, 40, 41, 46, 52, 62, 64, 67, 67]\n",
      "Tabla:  [1, 7, 14, 16, 19, 22, 31, 33, 40, 41, 46, 52, 62, 64, 67, 67, 72]\n",
      "Tabla:  [1, 7, 14, 16, 19, 22, 31, 33, 40, 41, 46, 52, 62, 64, 67, 67, 72, 75]\n",
      "Tabla:  [1, 7, 14, 16, 19, 22, 31, 33, 40, 41, 46, 52, 62, 64, 67, 67, 72, 75, 78]\n"
     ]
    }
   ],
   "source": [
    "# importando random para generar números aleatorios\n",
    "import random\n",
    "\n",
    "tabla_1 = []\n",
    "tabla_2 = []\n",
    "\n",
    "for i in range(10):\n",
    "    tabla_1.append(random.randint(1, 99))\n",
    "    tabla_2.append(random.randint(1,99))\n",
    "\n",
    "# Imprimiendo las tablas\n",
    "print(\"Tabla 1: \", tabla_1)\n",
    "print(\"Tabla 2: \", tabla_2)\n",
    "\n",
    "# Ordenando las tablas\n",
    "\n",
    "\n",
    "for i in range(len(tabla_1)):\n",
    "    for j in range(i + 1, len(tabla_1)):\n",
    "        if tabla_1[i] > tabla_1[j]:\n",
    "            min = tabla_1[i]\n",
    "            tabla_1[i] = tabla_1[j]\n",
    "            tabla_1[j] = min\n",
    "\n",
    "for i in range(len(tabla_2)):\n",
    "    for j in range(i + 1, len(tabla_2)):\n",
    "        if tabla_2[i] > tabla_2[j]:\n",
    "            min = tabla_2[i]\n",
    "            tabla_2[i] = tabla_2[j]\n",
    "            tabla_2[j] = min\n",
    "\n",
    "# Imprimeindo las tablas ordenadas\n",
    "print(\"\\nOrdenadas \")\n",
    "print(\"tabla_1: \", tabla_1)\n",
    "print(\"tabla_2: \", tabla_2)\n",
    "\n",
    "# Fucionando las tablas ordenadas\n",
    "tabla = []\n",
    "\n",
    "print(\"\\nFuncionando las tablas\")\n",
    "while len(tabla_1) > 0 and len(tabla_2) > 0:\n",
    "    if tabla_1[0] < tabla_2[0]:\n",
    "        tabla.append(tabla_1[0])\n",
    "        tabla_1.remove(tabla_1[0])\n",
    "    else:\n",
    "        tabla.append(tabla_2[0])\n",
    "        tabla_2.remove(tabla_2[0])\n",
    "    print(\"Tabla: \", tabla)"
   ]
  }
 ],
 "metadata": {
  "interpreter": {
   "hash": "d2152fd7f0bbc62aa1baff8c990435d1e2c7175d001561303988032604c11a48"
  },
  "kernelspec": {
   "display_name": "Python 3.10.4 64-bit",
   "language": "python",
   "name": "python3"
  },
  "language_info": {
   "codemirror_mode": {
    "name": "ipython",
    "version": 3
   },
   "file_extension": ".py",
   "mimetype": "text/x-python",
   "name": "python",
   "nbconvert_exporter": "python",
   "pygments_lexer": "ipython3",
   "version": "3.10.4"
  },
  "orig_nbformat": 4
 },
 "nbformat": 4,
 "nbformat_minor": 2
}
