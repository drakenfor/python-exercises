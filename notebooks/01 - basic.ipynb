{
 "cells": [
  {
   "cell_type": "markdown",
   "metadata": {},
   "source": [
    "### Ejercicio 27\n",
    "Dado un número entero positivo de 10 cifras. Programa que compruebe si un\n",
    "número es capicúa utilizando un vector de 10 componentes."
   ]
  },
  {
   "cell_type": "code",
   "execution_count": 11,
   "metadata": {},
   "outputs": [
    {
     "name": "stdout",
     "output_type": "stream",
     "text": [
      "Es capicua\n"
     ]
    }
   ],
   "source": [
    "n = 111111111\n",
    "\n",
    "# Construyendo el vector de numeros\n",
    "number = []\n",
    "while n > 0:\n",
    "    number.append(n % 10)\n",
    "    n = n // 10\n",
    "\n",
    "number.reverse()\n",
    "\n",
    "capicua = True\n",
    "for i in range(len(number)):\n",
    "    if number[i] != number[len(number) - i - 1]:\n",
    "        capicua = False\n",
    "        print(\"No es capicua\")\n",
    "        break\n",
    "\n",
    "if capicua:\n",
    "    print(\"Es capicua\")\n"
   ]
  },
  {
   "cell_type": "markdown",
   "metadata": {},
   "source": [
    "### Ejercicio 28\n",
    "Programa que carga una matriz de 5 filas y 10 columnas con números enteros\n",
    "imprimiendo los valores máximo y mínimo y sus posiciones dentro de la tabla."
   ]
  },
  {
   "cell_type": "code",
   "execution_count": 19,
   "metadata": {},
   "outputs": [
    {
     "name": "stdout",
     "output_type": "stream",
     "text": [
      "82 14 93 1 71 91 3 95 15 70 \n",
      "97 32 80 64 23 34 27 4 81 50 \n",
      "71 84 43 98 19 22 21 89 84 99 \n",
      "13 83 79 25 56 76 42 21 89 60 \n",
      "88 47 79 5 93 34 35 22 79 31 \n",
      "\n",
      "El máximo valor es: 99\n",
      "El mínimo valor es: 1\n"
     ]
    }
   ],
   "source": [
    "# importando random para generar números aleatorios\n",
    "import random\n",
    "\n",
    "# Creando la matriz\n",
    "matriz = []\n",
    "for i in range(5):\n",
    "    fila = []\n",
    "    for j in range(10):\n",
    "        fila.append(random.randint(0, 100))\n",
    "    matriz.append(fila)\n",
    "\n",
    "# Imprimiendo la matriz crada\n",
    "for fila in matriz:\n",
    "    for numero in fila:\n",
    "        print(numero, end=\" \")\n",
    "\n",
    "    print(\"\")\n",
    "\n",
    "\n",
    "# Encontrando el máximo valor\n",
    "max = matriz[0][0]\n",
    "\n",
    "for fila in matriz:\n",
    "    for numero in fila:\n",
    "        if numero > max:\n",
    "            max = numero\n",
    "\n",
    "print(\"\\nEl máximo valor es:\", max)\n",
    "\n",
    "# Encontrando el mínimo valor\n",
    "\n",
    "min = matriz[0][0]\n",
    "\n",
    "for fila in matriz:\n",
    "    for numero in fila:\n",
    "        if numero < min:\n",
    "            min = numero\n",
    "\n",
    "print(\"El mínimo valor es:\", min)\n",
    "\n"
   ]
  }
 ],
 "metadata": {
  "interpreter": {
   "hash": "d2152fd7f0bbc62aa1baff8c990435d1e2c7175d001561303988032604c11a48"
  },
  "kernelspec": {
   "display_name": "Python 3.10.4 64-bit",
   "language": "python",
   "name": "python3"
  },
  "language_info": {
   "codemirror_mode": {
    "name": "ipython",
    "version": 3
   },
   "file_extension": ".py",
   "mimetype": "text/x-python",
   "name": "python",
   "nbconvert_exporter": "python",
   "pygments_lexer": "ipython3",
   "version": "3.10.4"
  },
  "orig_nbformat": 4
 },
 "nbformat": 4,
 "nbformat_minor": 2
}
